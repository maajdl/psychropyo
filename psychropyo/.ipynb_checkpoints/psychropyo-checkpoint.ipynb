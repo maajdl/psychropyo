{
 "cells": [
  {
   "cell_type": "markdown",
   "metadata": {},
   "source": [
    "# Psychrometric model with pyomo"
   ]
  },
  {
   "cell_type": "code",
   "execution_count": null,
   "metadata": {},
   "outputs": [],
   "source": [
    "%%time\n",
    "from psychrometry import *\n",
    "from psychrochart import *\n",
    "from IPython.display import display as Idisplay\n",
    "import holoviews as hv\n",
    "hv.extension('bokeh')\n",
    "columns = ['t','td','tw','rh','pvap','psat','v','h','A','V','W','H']"
   ]
  },
  {
   "cell_type": "markdown",
   "metadata": {},
   "source": [
    "### Humid air streams: define, solve, tabulate"
   ]
  },
  {
   "cell_type": "code",
   "execution_count": null,
   "metadata": {
    "scrolled": false
   },
   "outputs": [],
   "source": [
    "ha = humid_air(stream=\"ha\", patm=101325, A=1, t=25, rh=0.40)\n",
    "h2 = humid_air(stream=\"h2\", patm=101325, A=2, t=25, rh=0.40)\n",
    "hb = humid_air(stream=\"hb\", patm=101325, A=2, h=90, rh=1.0)\n",
    "hc = humid_air(stream=\"hc\", patm=101325, A=1, h=90, rh=0.4)\n",
    "hd = humid_air(stream=\"hd\", patm=101325, A=1, h=60, rh=0.4)\n",
    "he = humid_air(stream=\"he\", patm=101325, A=1, h=60, rh=0.8)\n",
    "hf = humid_air(stream=\"hf\", patm=101325, A=1, h=70, rh=0.3)\n",
    "\n",
    "ha = ha.solve()\n",
    "h2 = h2.solve()\n",
    "hb = hb.solve()\n",
    "hc = hc.solve()\n",
    "hd = hd.solve()\n",
    "he = he.solve()\n",
    "hf = hf.solve()\n",
    "\n",
    "df = streamTable([ha,h2,hb,hc,hd,he,hf,ha])[columns]\n",
    "df.Idisplay"
   ]
  },
  {
   "cell_type": "code",
   "execution_count": null,
   "metadata": {},
   "outputs": [],
   "source": []
  },
  {
   "cell_type": "code",
   "execution_count": null,
   "metadata": {},
   "outputs": [],
   "source": []
  },
  {
   "cell_type": "markdown",
   "metadata": {},
   "source": [
    "### Psychrometric chart"
   ]
  },
  {
   "cell_type": "code",
   "execution_count": null,
   "metadata": {
    "scrolled": false
   },
   "outputs": [],
   "source": [
    "curves = PsychrometricChart(patm=101325).read()\n",
    "chart = curves.chart([ha,hb,hc,hd,he,hf,ha],[[ha,hb],[hb,hd,hc],[he,hf]])\n",
    "chart"
   ]
  },
  {
   "cell_type": "code",
   "execution_count": null,
   "metadata": {},
   "outputs": [],
   "source": [
    "display"
   ]
  },
  {
   "cell_type": "markdown",
   "metadata": {},
   "source": [
    "### Mixing"
   ]
  },
  {
   "cell_type": "code",
   "execution_count": null,
   "metadata": {},
   "outputs": [],
   "source": [
    "from processes import *\n",
    "\n",
    "ha = humid_air(stream=\"ha\", A=1.0, t=25, rh=0.10)\n",
    "hb = humid_air(stream=\"hb\", A=0.2, t=45, rh=0.40)\n",
    "hc = humid_air(stream=\"hc\")\n",
    "model = mix(\"mixer\", ha, hb, hc)\n",
    "model.solve()\n",
    "\n",
    "curves = PsychrometricChart(patm=101325).read()\n",
    "chart = curves.chart([ha,hb,hc], [[ha,hb,hc]])\n",
    "Idisplay(chart)\n",
    "\n",
    "streamTable([ha,hb,hc])[columns].display()"
   ]
  },
  {
   "cell_type": "code",
   "execution_count": null,
   "metadata": {},
   "outputs": [],
   "source": [
    "df = streamTable([ha,hb,hc])\n",
    "df."
   ]
  },
  {
   "cell_type": "markdown",
   "metadata": {},
   "source": [
    "### Humidification, mist"
   ]
  },
  {
   "cell_type": "code",
   "execution_count": null,
   "metadata": {
    "scrolled": false
   },
   "outputs": [],
   "source": [
    "from processes import *\n",
    "\n",
    "ha = humid_air(stream=\"ha\", A=1, t=25, rh=0.40)\n",
    "hb = water(stream=\"mist\", t=25, W=0.002)\n",
    "hc = humid_air(stream=\"hc\")\n",
    "model = mix(\"mixer\", ha, hb, hc)\n",
    "model.solve()\n",
    "\n",
    "curves = PsychrometricChart(patm=101325).read()\n",
    "chart = curves.chart([ha,hc], [[ha,hc]])\n",
    "display(chart)\n",
    "\n",
    "streamTable([ha,hb,hc])[columns].display()"
   ]
  },
  {
   "cell_type": "markdown",
   "metadata": {},
   "source": [
    "### Humidification, vapor"
   ]
  },
  {
   "cell_type": "code",
   "execution_count": null,
   "metadata": {
    "scrolled": false
   },
   "outputs": [],
   "source": [
    "from processes import *\n",
    "\n",
    "ha = humid_air(stream=\"ha\", A=1, t=25, rh=0.40)\n",
    "hb = vapor(stream=\"vapor\", t=25, V=0.002)\n",
    "hc = humid_air(stream=\"hc\")\n",
    "model = mix(\"mixer\", ha, hb, hc)\n",
    "model.solve()\n",
    "\n",
    "curves = PsychrometricChart(patm=101325).read()\n",
    "chart = curves.chart([ha,hc], [[ha,hc]])\n",
    "display(chart)\n",
    "\n",
    "streamTable([ha,hb,hc])[columns].display()"
   ]
  },
  {
   "cell_type": "markdown",
   "metadata": {},
   "source": [
    "### Mixing humid air and heat"
   ]
  },
  {
   "cell_type": "code",
   "execution_count": null,
   "metadata": {
    "scrolled": false
   },
   "outputs": [],
   "source": [
    "from processes import *\n",
    "\n",
    "ha = humid_air(stream=\"ha\", A=1, t=25, rh=0.40)\n",
    "hb = heat(stream=\"heat\", H=10)\n",
    "hc = humid_air(stream=\"hc\")\n",
    "model = mix(\"mixer\", ha, hb, hc)\n",
    "model.solve()\n",
    "\n",
    "curves = PsychrometricChart(patm=101325).read()\n",
    "chart = curves.chart([ha,hc], [[ha,hc]])\n",
    "display(chart)\n",
    "\n",
    "streamTable([ha,hb,hc])[columns].display()"
   ]
  },
  {
   "cell_type": "code",
   "execution_count": null,
   "metadata": {
    "collapsed": true
   },
   "outputs": [],
   "source": []
  },
  {
   "cell_type": "code",
   "execution_count": null,
   "metadata": {
    "collapsed": true
   },
   "outputs": [],
   "source": [
    "def negStream(bb):\n",
    "    b = Block()\n",
    "    b.stream = \"-\" + bb.stream\n",
    "    b.A    = myVar(0   , (-big,big), \"kg\")\n",
    "    b.V    = myVar(0   , (-big,big), \"kg\")\n",
    "    b.W    = myVar(0   , (-big,big), \"kg\")\n",
    "    b.H    = myVar(0   , (-big,big), \"kJ\")\n",
    "    b.A_neg = myCon(b.A == -bb.A)\n",
    "    b.V_neg = myCon(b.V == -bb.V)\n",
    "    b.W_neg = myCon(b.W == -bb.W)\n",
    "    b.H_neg = myCon(b.H == -bb.H)\n",
    "    return b\n",
    "\n",
    "Block.__neg__ = negStream"
   ]
  },
  {
   "cell_type": "code",
   "execution_count": null,
   "metadata": {},
   "outputs": [],
   "source": [
    "ha = humid_air(stream=\"ha\", A=1, t=25, rh=0.40)\n",
    "nha = -ha\n",
    "\n",
    "mdl = Block()\n",
    "mdl.ha = ha\n",
    "mdl.nha = nha\n",
    "\n",
    "mdl.solve()"
   ]
  },
  {
   "cell_type": "code",
   "execution_count": null,
   "metadata": {},
   "outputs": [],
   "source": [
    "streamTable([ha,nha])[columns].display()"
   ]
  },
  {
   "cell_type": "code",
   "execution_count": null,
   "metadata": {
    "collapsed": true
   },
   "outputs": [],
   "source": []
  },
  {
   "cell_type": "code",
   "execution_count": null,
   "metadata": {
    "collapsed": true
   },
   "outputs": [],
   "source": []
  },
  {
   "cell_type": "code",
   "execution_count": null,
   "metadata": {},
   "outputs": [],
   "source": [
    "import os\n",
    "import psutil\n",
    "process = psutil.Process(os.getpid())\n",
    "print(process.memory_info().rss)"
   ]
  },
  {
   "cell_type": "code",
   "execution_count": null,
   "metadata": {
    "collapsed": true
   },
   "outputs": [],
   "source": []
  }
 ],
 "metadata": {
  "kernelspec": {
   "display_name": "Python 3",
   "language": "python",
   "name": "python3"
  },
  "language_info": {
   "codemirror_mode": {
    "name": "ipython",
    "version": 3
   },
   "file_extension": ".py",
   "mimetype": "text/x-python",
   "name": "python",
   "nbconvert_exporter": "python",
   "pygments_lexer": "ipython3",
   "version": "3.6.1"
  }
 },
 "nbformat": 4,
 "nbformat_minor": 2
}
