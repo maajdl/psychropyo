{
 "cells": [
  {
   "cell_type": "markdown",
   "metadata": {},
   "source": [
    "# Psychrometric model with pyomo"
   ]
  },
  {
   "cell_type": "code",
   "execution_count": null,
   "metadata": {},
   "outputs": [],
   "source": [
    "%%time\n",
    "from psychrometry import *\n",
    "from IPython.display import display as Idisplay\n",
    "import holoviews as hv\n",
    "hv.extension('bokeh')\n",
    "columns = ['t','td','tw','rh','pvap','psat','v','h','A','V','W','H']"
   ]
  },
  {
   "cell_type": "markdown",
   "metadata": {},
   "source": [
    "### Humid air streams: define, solve, tabulate, plot"
   ]
  },
  {
   "cell_type": "code",
   "execution_count": null,
   "metadata": {
    "scrolled": false
   },
   "outputs": [],
   "source": [
    "ha = humid_air(element=\"ha\", patm=101325, A=1, t=25, rh=0.40)\n",
    "h2 = humid_air(element=\"h2\", patm=101325, A=2, t=25, rh=0.40)\n",
    "hb = humid_air(element=\"hb\", patm=101325, A=2, h=90, rh=1.0)\n",
    "hc = humid_air(element=\"hc\", patm=101325, A=1, h=90, rh=0.4)\n",
    "hd = humid_air(element=\"hd\", patm=101325, A=1, h=60, rh=0.4)\n",
    "he = humid_air(element=\"he\", patm=101325, A=1, h=60, rh=0.8)\n",
    "hf = humid_air(element=\"hf\", patm=101325, A=1, h=70, rh=0.3)\n",
    "\n",
    "ha = ha.solve()\n",
    "h2 = h2.solve()\n",
    "hb = hb.solve()\n",
    "hc = hc.solve()\n",
    "hd = hd.solve()\n",
    "he = he.solve()\n",
    "hf = hf.solve()\n",
    "\n",
    "df = streamTable([ha,h2,hb,hc,hd,he,hf,ha])[columns]\n",
    "Idisplay(df)\n",
    "\n",
    "curves = PsychrometricChart(patm=101325).read()\n",
    "chart = curves.chart([ha,hb,hc,hd,he,hf,ha],[[ha,hb],[hb,hd,hc],[he,hf]])\n",
    "Idisplay(chart)"
   ]
  },
  {
   "cell_type": "markdown",
   "metadata": {},
   "source": [
    "### Mixing"
   ]
  },
  {
   "cell_type": "code",
   "execution_count": null,
   "metadata": {},
   "outputs": [],
   "source": [
    "ha = humid_air(element=\"ha\", A=1.0, t=25, rh=0.10)\n",
    "hb = humid_air(element=\"hb\", A=0.2, t=45, rh=0.40)\n",
    "hc = humid_air(element=\"hc\")\n",
    "mixer = mix(\"mixer\", ha, hb, hc)\n",
    "\n",
    "flowsheet(ha,hb,hc,mixer).solve()\n",
    "\n",
    "curves = PsychrometricChart(patm=101325).read()\n",
    "chart = curves.chart([ha,hb,hc], [[ha,hb,hc]])\n",
    "Idisplay(chart)\n",
    "\n",
    "Idisplay(streamTable([ha,hb,hc])[columns])"
   ]
  },
  {
   "cell_type": "markdown",
   "metadata": {},
   "source": [
    "### Splitting"
   ]
  },
  {
   "cell_type": "code",
   "execution_count": null,
   "metadata": {},
   "outputs": [],
   "source": [
    "ha = humid_air(element=\"ha\", A=1.0, t=25, rh=0.10)\n",
    "hb = humid_air(element=\"hb\")\n",
    "hc = humid_air(element=\"hc\")\n",
    "splitter = split(\"splitter\", ha, hb, hc, 0.25)\n",
    "\n",
    "flowsheet(ha,hb,hc,splitter).solve()\n",
    "\n",
    "curves = PsychrometricChart(patm=101325).read()\n",
    "chart = curves.chart([ha,hb,hc], [[ha,hb,hc]])\n",
    "Idisplay(chart)\n",
    "\n",
    "Idisplay(streamTable([ha,hb,hc])[columns])"
   ]
  },
  {
   "cell_type": "markdown",
   "metadata": {},
   "source": [
    "### Humidification, mist"
   ]
  },
  {
   "cell_type": "code",
   "execution_count": null,
   "metadata": {
    "scrolled": false
   },
   "outputs": [],
   "source": [
    "ha = humid_air(element=\"ha\", A=1, t=25, rh=0.40)\n",
    "hb = water(element=\"mist\", t=25, W=0.002)\n",
    "hc = humid_air(element=\"hc\")\n",
    "mixer = mix(\"mixer\", ha, hb, hc)\n",
    "\n",
    "flowsheet(ha,hb,hc,mixer).solve()\n",
    "\n",
    "curves = PsychrometricChart(patm=101325).read()\n",
    "chart = curves.chart([ha,hc], [[ha,hc]])\n",
    "Idisplay(chart)\n",
    "\n",
    "Idisplay(streamTable([ha,hb,hc])[columns])"
   ]
  },
  {
   "cell_type": "markdown",
   "metadata": {},
   "source": [
    "### Humidification, vapor"
   ]
  },
  {
   "cell_type": "code",
   "execution_count": null,
   "metadata": {
    "scrolled": false
   },
   "outputs": [],
   "source": [
    "ha = humid_air(element=\"ha\", A=1, t=25, rh=0.40)\n",
    "hb = vapor(element=\"vapor\", t=25, V=0.002)\n",
    "hc = humid_air(element=\"hc\")\n",
    "mixer = mix(\"mixer\", ha, hb, hc)\n",
    "\n",
    "flowsheet(ha,hb,hc,mixer).solve()\n",
    "\n",
    "curves = PsychrometricChart(patm=101325).read()\n",
    "chart = curves.chart([ha,hc], [[ha,hc]])\n",
    "Idisplay(chart)\n",
    "\n",
    "Idisplay(streamTable([ha,hb,hc])[columns])"
   ]
  },
  {
   "cell_type": "markdown",
   "metadata": {},
   "source": [
    "### Mixing humid air and heat"
   ]
  },
  {
   "cell_type": "code",
   "execution_count": null,
   "metadata": {
    "scrolled": false
   },
   "outputs": [],
   "source": [
    "ha = humid_air(element=\"ha\", A=1, t=25, rh=0.40)\n",
    "hb = heat(element=\"heat\", H=10)\n",
    "hc = humid_air(element=\"hc\")\n",
    "mixer = mix(\"mixer\", ha, hb, hc)\n",
    "\n",
    "flowsheet(ha,hb,hc,mixer).solve()\n",
    "\n",
    "curves = PsychrometricChart(patm=101325).read()\n",
    "chart = curves.chart([ha,hc], [[ha,hc]])\n",
    "Idisplay(chart)\n",
    "\n",
    "Idisplay(streamTable([ha,hb,hc])[columns])"
   ]
  },
  {
   "cell_type": "markdown",
   "metadata": {
    "collapsed": true
   },
   "source": [
    "### mix2"
   ]
  },
  {
   "cell_type": "code",
   "execution_count": null,
   "metadata": {},
   "outputs": [],
   "source": [
    "ha = humid_air(element=\"ha\", A=1, t=25, rh=0.40)\n",
    "hb = heat(element=\"heat\", H=10)\n",
    "hc = humid_air(element=\"hc\")\n",
    "hd = humid_air(element=\"hd\", A=0.2, t=25, rh=0.10)\n",
    "he = humid_air(element=\"he\")\n",
    "\n",
    "mixer1 = mix(\"mixer1\", ha, hb, hc)\n",
    "mixer2 = mix(\"mixer2\", hc, hd, he)\n",
    "\n",
    "flowsheet(ha,hb,hc,hd,he,mixer1,mixer2).solve()\n",
    "\n",
    "curves = PsychrometricChart(patm=101325).read()\n",
    "chart = curves.chart([ha,hc,hd,he], [[ha,hc,hd,he]])\n",
    "Idisplay(chart)\n",
    "\n",
    "Idisplay(streamTable([ha,hb,hc,hd,he])[columns])"
   ]
  },
  {
   "cell_type": "code",
   "execution_count": null,
   "metadata": {
    "collapsed": true
   },
   "outputs": [],
   "source": []
  }
 ],
 "metadata": {
  "kernelspec": {
   "display_name": "Python 3",
   "language": "python",
   "name": "python3"
  },
  "language_info": {
   "codemirror_mode": {
    "name": "ipython",
    "version": 3
   },
   "file_extension": ".py",
   "mimetype": "text/x-python",
   "name": "python",
   "nbconvert_exporter": "python",
   "pygments_lexer": "ipython3",
   "version": "3.6.1"
  }
 },
 "nbformat": 4,
 "nbformat_minor": 2
}
