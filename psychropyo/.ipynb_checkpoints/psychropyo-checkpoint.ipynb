{
 "cells": [
  {
   "cell_type": "markdown",
   "metadata": {},
   "source": [
    "# Psychrometric model with pyomo"
   ]
  },
  {
   "cell_type": "markdown",
   "metadata": {},
   "source": [
    "### Imports"
   ]
  },
  {
   "cell_type": "code",
   "execution_count": null,
   "metadata": {},
   "outputs": [],
   "source": [
    "%%time\n",
    "from psychrometry import *\n",
    "import holoviews as hv\n",
    "hv.extension('bokeh')"
   ]
  },
  {
   "cell_type": "markdown",
   "metadata": {},
   "source": [
    "### Define three states"
   ]
  },
  {
   "cell_type": "code",
   "execution_count": null,
   "metadata": {
    "collapsed": true
   },
   "outputs": [],
   "source": [
    "ha = humid_air(statename=\"ha\", patm=101325, A=1, t=25, rh=0.40)\n",
    "hb = humid_air(statename=\"hb\", patm=101325, A=2, hm=90, rh=1.0)\n",
    "hc = humid_air(statename=\"hc\", patm=101325, A=1, hm=90, rh=0.4)\n",
    "hd = humid_air(statename=\"hd\", patm=101325, A=1, hm=60, rh=0.4)\n",
    "he = humid_air(statename=\"he\", patm=101325, A=1, hm=60, rh=0.8)\n",
    "hf = humid_air(statename=\"hf\", patm=101325, A=1, hm=70, rh=0.4)"
   ]
  },
  {
   "cell_type": "code",
   "execution_count": null,
   "metadata": {
    "collapsed": true
   },
   "outputs": [],
   "source": []
  },
  {
   "cell_type": "markdown",
   "metadata": {},
   "source": [
    "### Solve the three states"
   ]
  },
  {
   "cell_type": "code",
   "execution_count": null,
   "metadata": {
    "collapsed": true
   },
   "outputs": [],
   "source": [
    "ha = ha.solve()\n",
    "hb = hb.solve()\n",
    "hc = hc.solve()\n",
    "hd = hd.solve()\n",
    "he = he.solve()\n",
    "hf = hf.solve()"
   ]
  },
  {
   "cell_type": "code",
   "execution_count": null,
   "metadata": {
    "collapsed": true
   },
   "outputs": [],
   "source": []
  },
  {
   "cell_type": "markdown",
   "metadata": {},
   "source": [
    "### Display the three states in a table"
   ]
  },
  {
   "cell_type": "code",
   "execution_count": null,
   "metadata": {},
   "outputs": [],
   "source": [
    "df = statetable([ha,hb,hc,hd,he,hf,ha])\n",
    "df[['A','t','td','tw','rh','Wv','pvap','psat','hm','vs']].display()"
   ]
  },
  {
   "cell_type": "markdown",
   "metadata": {},
   "source": [
    "### Plot a psychrometric chart"
   ]
  },
  {
   "cell_type": "code",
   "execution_count": null,
   "metadata": {},
   "outputs": [],
   "source": [
    "curves = psy_curves(patm=101325).read()\n",
    "chart = curves.chart([ha,hb,hc,hd,he,hf,ha],[[ha,hb],[hc,hd],[he,hf]])\n",
    "chart"
   ]
  },
  {
   "cell_type": "code",
   "execution_count": null,
   "metadata": {
    "collapsed": true,
    "scrolled": true
   },
   "outputs": [],
   "source": []
  },
  {
   "cell_type": "code",
   "execution_count": null,
   "metadata": {},
   "outputs": [],
   "source": [
    "from processes import *\n",
    "\n",
    "ha = humid_air(statename=\"ha\", A=1, t=25, rh=0.40)\n",
    "hb = humid_air(statename=\"hb\", A=0.1, t=45, rh=0.40)\n",
    "hc = humid_air(statename=\"hc\")\n",
    "model = mix(ha, hb, hc)\n",
    "model.solve()"
   ]
  },
  {
   "cell_type": "code",
   "execution_count": null,
   "metadata": {},
   "outputs": [],
   "source": [
    "chart = curves.chart([ha,hb,hc])\n",
    "chart"
   ]
  },
  {
   "cell_type": "code",
   "execution_count": null,
   "metadata": {},
   "outputs": [],
   "source": [
    "df = statetable([ha,hb,hc])\n",
    "df[['A','t','td','tw','rh','Wv','pvap','psat','hm','vs']].display()"
   ]
  },
  {
   "cell_type": "code",
   "execution_count": null,
   "metadata": {
    "collapsed": true
   },
   "outputs": [],
   "source": []
  }
 ],
 "metadata": {
  "kernelspec": {
   "display_name": "Python 3",
   "language": "python",
   "name": "python3"
  },
  "language_info": {
   "codemirror_mode": {
    "name": "ipython",
    "version": 3
   },
   "file_extension": ".py",
   "mimetype": "text/x-python",
   "name": "python",
   "nbconvert_exporter": "python",
   "pygments_lexer": "ipython3",
   "version": "3.6.1"
  }
 },
 "nbformat": 4,
 "nbformat_minor": 2
}
