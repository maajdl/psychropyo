{
 "cells": [
  {
   "cell_type": "markdown",
   "metadata": {},
   "source": [
    "# psychropyo:  Psychrometry using Pyomo\n",
    "<img src=\"psychrometricchart.png\" width=\"450\" align=\"right\"/>\n",
    "\n",
    "For Pyomo, see:  http://www.pyomo.org/\n",
    "   \n",
    "The psychropyo package is a tool for psychrometry calculations.\n",
    "It is based on the Pyomo mathematical modeling tool.  \n",
    "The psychropyo package contains these modules:\n",
    "\n",
    "* psychrothermo: Pyomo models for thermodynamic properties for air and water   \n",
    "* psychrostream: Pyomo models for streams of humid air, water, vapor and heat  \n",
    "* psychroprocess: Pyomo models for simple processes: mix, split, condense, exchange, flowsheetsection, flowsheet    \n",
    "* psychrochart: module for plotting on a psychrometric chart    \n",
    "* psychroutils: utilities functions"
   ]
  },
  {
   "cell_type": "markdown",
   "metadata": {},
   "source": [
    "### Check  kernel version\n",
    "Should be 3.6 or higher, otherwise, restart with right kernel"
   ]
  },
  {
   "cell_type": "code",
   "execution_count": null,
   "metadata": {
    "collapsed": true
   },
   "outputs": [],
   "source": [
    "import sys\n",
    "sys.version_info"
   ]
  },
  {
   "cell_type": "code",
   "execution_count": null,
   "metadata": {
    "collapsed": true
   },
   "outputs": [],
   "source": [
    "import subprocess\n",
    "\n",
    "try:\n",
    "    import pyomo\n",
    "except ImportError:\n",
    "    print(\"Installing Pyomo\")\n",
    "    print(subprocess.run(\"pip install pyomo\", shell=True))\n",
    "    print(subprocess.run(\"conda install ipopt_bin -c cachemeorg\", shell=True))\n",
    "    print(subprocess.run(\"conda install glpk -c cachemeorg\", shell=True))\n",
    "\n",
    "try:\n",
    "    import holoviews\n",
    "except ImportError:\n",
    "    print(\"Installing HoloViews\")\n",
    "    print(subprocess.run(\"conda install -c ioam holoviews bokeh\", shell=True))"
   ]
  },
  {
   "cell_type": "markdown",
   "metadata": {},
   "source": [
    "# Psychrometric model with pyomo"
   ]
  },
  {
   "cell_type": "code",
   "execution_count": null,
   "metadata": {
    "collapsed": true,
    "scrolled": false
   },
   "outputs": [],
   "source": [
    "%%time\n",
    "from psychropyo.psychrochart import *\n",
    "from psychropyo.psychrostream import *\n",
    "from psychropyo.psychroprocess import *\n",
    "\n",
    "columns = ['t','td','tw','rh','pvap','psat','vs','v','h','A','V','W','H','m3']\n",
    "curves = PsychrometricChart(patm=101325).read()"
   ]
  },
  {
   "cell_type": "markdown",
   "metadata": {
    "scrolled": true
   },
   "source": [
    "### flowsheet  with recirculation"
   ]
  },
  {
   "cell_type": "code",
   "execution_count": null,
   "metadata": {
    "collapsed": true,
    "scrolled": false
   },
   "outputs": [],
   "source": [
    "a01  = humid_air(\"a01\", A=1, t=5, rh=0.40)\n",
    "h1   = heat(\"h1\", H=5)\n",
    "a02  = humid_air(\"a02\")\n",
    "heater1 = mix('heater1', a01, h1, a02)\n",
    "\n",
    "a09  = humid_air(\"a09\")\n",
    "a03  = humid_air(\"a03\")\n",
    "recup = mix(\"recup\" , a02, a09  , a03)\n",
    "\n",
    "h2   = heat(\"h2\")\n",
    "a04  = humid_air(\"a04\")\n",
    "heater2 = mix('heater2', a03, h2   , a04)\n",
    "\n",
    "mist = water(\"mist\" , t=15)\n",
    "a05  = humid_air(\"a05\")\n",
    "humid1 = mix(\"humid1\" , a04, mist , a05)\n",
    "\n",
    "h3   = heat(\"h3\", H=10)\n",
    "a06  = humid_air(\"a06\")\n",
    "heater3 = mix('heater3', a05, h3   , a06)\n",
    "\n",
    "vap  = vapor(\"vapor\", t=37, V=0.003)\n",
    "a07  = humid_air(\"a07\")\n",
    "humid2  = mix(\"humid2\" , a06, vap  , a07)\n",
    "\n",
    "h4   = heat(\"h4\")\n",
    "a08  = humid_air(\"a08\", t=22, rh=0.40)\n",
    "losses  = walllosses(\"losses\" , a07, h4 , a08, 1, 5)\n",
    "\n",
    "a10  = humid_air(\"a10\")\n",
    "recirc = split(\"recirc\", a08, a09, a10, xb=0.20)\n",
    "\n",
    "room = flowsheetsection(\"room\", heater3, humid2, losses)\n",
    "model = flowsheet(\"model\", heater1, recup, heater2, humid1, room, recirc)\n",
    "#model = flowsheet(\"model\", heater1, recup, heater2, humid1, heater3, humid2, losses, recirc)\n",
    "\n",
    "model.solve()\n",
    "\n",
    "Ihtml(\"<h4>All streams:</h4>\")\n",
    "Idisplay(streamTable(model.streams)[columns])\n",
    "\n",
    "Ihtml(\"<h4>Room streams:</h4>\")\n",
    "Idisplay(streamTable(room.streams)[columns])\n",
    "\n",
    "Ihtml(\"<h4>Room internal streams:</h4>\")\n",
    "Idisplay(streamTable(room.internalstreams)[columns])\n",
    "\n",
    "Ihtml(\"<h4>Psychrometric chart:</h4>\")\n",
    "chart = curves.chart([[a01,a02,a03,a04,a05,a06,a07,a08]])\n",
    "Idisplay(chart)\n"
   ]
  },
  {
   "cell_type": "code",
   "execution_count": null,
   "metadata": {
    "collapsed": true,
    "scrolled": false
   },
   "outputs": [],
   "source": [
    "# chart = curves.chart([[a01,a02,a03,a04,a05,a06,a07,a08]], width=877, height=481, xmax=50, ymax=0.020)\n",
    "# Idisplay(chart)"
   ]
  },
  {
   "cell_type": "markdown",
   "metadata": {
    "scrolled": true
   },
   "source": [
    "### flowsheet  with counter current recuperator (simple model)"
   ]
  },
  {
   "cell_type": "code",
   "execution_count": null,
   "metadata": {
    "collapsed": true,
    "scrolled": false
   },
   "outputs": [],
   "source": [
    "a01  = humid_air(\"a01\", A=1, t=5, rh=0.40)\n",
    "h1   = heat(\"h1\", H=5)\n",
    "a02  = humid_air(\"a02\")\n",
    "heater1 = mix('heater1', a01, h1, a02)\n",
    "\n",
    "a09  = humid_air(\"a09\")\n",
    "a03  = humid_air(\"a03\")\n",
    "#recup = mix(\"recup\" , a02, a09  , a03)\n",
    "\n",
    "h2   = heat(\"h2\")\n",
    "a04  = humid_air(\"a04\")\n",
    "heater2 = mix('heater2', a03, h2   , a04)\n",
    "\n",
    "mist = water(\"mist\" , t=15)\n",
    "a05  = humid_air(\"a05\")\n",
    "humid1 = mix(\"humid1\" , a04, mist , a05)\n",
    "\n",
    "h3   = heat(\"h3\", H=10)\n",
    "a06  = humid_air(\"a06\")\n",
    "heater3 = mix('heater3', a05, h3   , a06)\n",
    "\n",
    "vap  = vapor(\"vapor\", t=37, V=0.003)\n",
    "a07  = humid_air(\"a07\")\n",
    "humid2  = mix(\"humid2\" , a06, vap  , a07)\n",
    "\n",
    "h4   = heat(\"h4\")\n",
    "a08  = humid_air(\"a08\", t=22, rh=0.40)\n",
    "losses  = walllosses(\"losses\" , a07, h4 , a08, 1, 5)\n",
    "\n",
    "a10  = humid_air(\"a10\")\n",
    "#recirc = split(\"recirc\", a08, a09, a10, xb=0.20)\n",
    "\n",
    "ccrecup = countercurrent(\"ccrecup\", a08, a10, a02, a03, eff=0.90)  # ok for eff=1, a bit simplistic otherwise\n",
    "\n",
    "room = flowsheetsection(\"room\", heater3, humid2, losses)\n",
    "model = flowsheet(\"model\", heater1, ccrecup, heater2, humid1, room)\n",
    "#model = flowsheet(\"model\", heater1, recup, heater2, humid1, heater3, humid2, losses, recirc)\n",
    "\n",
    "model.solve()\n",
    "\n",
    "Ihtml(\"<h4>All streams:</h4>\")\n",
    "Idisplay(streamTable(model.streams)[columns])\n",
    "\n",
    "Ihtml(\"<h4>Room streams:</h4>\")\n",
    "Idisplay(streamTable(room.streams)[columns])\n",
    "\n",
    "Ihtml(\"<h4>Room internal streams:</h4>\")\n",
    "Idisplay(streamTable(room.internalstreams)[columns])\n",
    "\n",
    "Ihtml(\"<h4>Psychrometric chart:</h4>\")\n",
    "chart = curves.chart([[a01,a02,a03,a04,a05,a06,a07,a08]])\n",
    "Idisplay(chart)\n"
   ]
  },
  {
   "cell_type": "markdown",
   "metadata": {},
   "source": [
    "### Splitting"
   ]
  },
  {
   "cell_type": "code",
   "execution_count": null,
   "metadata": {
    "collapsed": true
   },
   "outputs": [],
   "source": [
    "ha = humid_air(\"ha\", A=1.0, t=25, rh=0.40)\n",
    "hb = humid_air(\"hb\")\n",
    "hc = humid_air(\"hc\")\n",
    "splitter = split(\"splitter\", ha, hb, hc, xb=0.20)\n",
    "\n",
    "flowsheet(\"flowsheet\", splitter).solve()\n",
    "\n",
    "Idisplay(streamTable([ha,hb,hc])[columns])"
   ]
  },
  {
   "cell_type": "markdown",
   "metadata": {
    "scrolled": true
   },
   "source": [
    "### condenser"
   ]
  },
  {
   "cell_type": "code",
   "execution_count": null,
   "metadata": {
    "collapsed": true
   },
   "outputs": [],
   "source": [
    "from pyomo.environ import *\n",
    "ha = humid_air(\"ha\", A=1, t=25, rh=1.1)\n",
    "hb = water(\"hb\")\n",
    "hc = humid_air(\"hc\")\n",
    "cond = condense(\"cond\", ha, hb, hc)\n",
    "model = flowsheet(\"flsh\", cond)\n",
    "model.solve()\n",
    "df = streamTable([ha,hb,hc])[columns]\n",
    "Idisplay(df)"
   ]
  },
  {
   "cell_type": "markdown",
   "metadata": {},
   "source": [
    "### Humid air streams: define, solve, tabulate, plot"
   ]
  },
  {
   "cell_type": "code",
   "execution_count": null,
   "metadata": {
    "collapsed": true,
    "scrolled": false
   },
   "outputs": [],
   "source": [
    "ha = humid_air(\"ha\", patm=101325, A=1, t=25, rh=0.40).solve()\n",
    "h2 = humid_air(\"h2\", patm=101325, A=2, t=25, rh=0.40).solve()\n",
    "hb = humid_air(\"hb\", patm=101325, A=2, h=90, rh=1.0).solve()\n",
    "hc = humid_air(\"hc\", patm=101325, A=1, h=90, rh=0.4).solve()\n",
    "hd = humid_air(\"hd\", patm=101325, A=1, h=60, rh=0.4).solve()\n",
    "he = humid_air(\"he\", patm=101325, A=1, h=60, rh=0.8).solve()\n",
    "hf = humid_air(\"hf\", patm=101325, A=1, h=70, rh=0.3).solve()\n",
    "hg = humid_air(\"hg\", patm=101325, m3=100, h=70, rh=0.3).solve()\n",
    "\n",
    "df = streamTable([ha,h2,hb,hc,hd,he,hf,hg,ha])[columns]\n",
    "Idisplay(df)\n",
    "\n",
    "chart = curves.chart([[ha,hb],[hb,hd,hc],[he,hf]])\n",
    "Idisplay(chart)"
   ]
  },
  {
   "cell_type": "markdown",
   "metadata": {},
   "source": [
    "### Mixing"
   ]
  },
  {
   "cell_type": "code",
   "execution_count": null,
   "metadata": {
    "collapsed": true
   },
   "outputs": [],
   "source": [
    "ha = humid_air(\"ha\", A=1.0, t=25, rh=0.10)\n",
    "hb = humid_air(\"hb\", A=0.2, t=45, rh=0.40)\n",
    "hc = humid_air(\"hc\")\n",
    "mixer = mix(\"mixer\", ha, hb, hc)\n",
    "\n",
    "model = flowsheet(\"flowsheet\", mixer)\n",
    "model.solve()\n",
    "\n",
    "Idisplay(streamTable([ha,hb,hc])[columns])\n",
    "\n",
    "chart = curves.chart([[ha,hb,hc]])\n",
    "Idisplay(chart)"
   ]
  },
  {
   "cell_type": "markdown",
   "metadata": {},
   "source": [
    "### Humidification, mist"
   ]
  },
  {
   "cell_type": "code",
   "execution_count": null,
   "metadata": {
    "collapsed": true,
    "scrolled": false
   },
   "outputs": [],
   "source": [
    "ha = humid_air(\"ha\", A=1, t=25, rh=0.40)\n",
    "hb = water(\"mist\", t=25, W=0.001)\n",
    "hc = humid_air(\"hc\")\n",
    "mixer = mix(\"mixer\", ha, hb, hc)\n",
    "\n",
    "flowsheet('humidification mist',mixer).solve()\n",
    "\n",
    "Idisplay(streamTable([ha,hb,hc])[columns])"
   ]
  },
  {
   "cell_type": "markdown",
   "metadata": {},
   "source": [
    "### Humidification, vapor"
   ]
  },
  {
   "cell_type": "code",
   "execution_count": null,
   "metadata": {
    "collapsed": true,
    "scrolled": false
   },
   "outputs": [],
   "source": [
    "ha = humid_air(\"ha\", A=1, t=25, rh=0.40)\n",
    "hb = vapor(\"vapor\", t=25, V=0.002)\n",
    "hc = humid_air(\"hc\")\n",
    "mixer = mix(\"mixer\", ha, hb, hc)\n",
    "\n",
    "flowsheet(\"flowsheet\", mixer).solve()\n",
    "\n",
    "Idisplay(streamTable([ha,hb,hc])[columns])\n",
    "\n",
    "curves = PsychrometricChart(patm=101325).read()\n",
    "chart = curves.chart([[ha,hc]])\n",
    "Idisplay(chart)"
   ]
  },
  {
   "cell_type": "markdown",
   "metadata": {},
   "source": [
    "### Heating"
   ]
  },
  {
   "cell_type": "code",
   "execution_count": null,
   "metadata": {
    "collapsed": true,
    "scrolled": false
   },
   "outputs": [],
   "source": [
    "ha = humid_air(\"ha\", A=1, t=25, rh=0.40)\n",
    "hb = heat(\"heat\", H=10)\n",
    "hc = humid_air(\"hc\")\n",
    "mixer = mix(\"mixer\", ha, hb, hc)\n",
    "\n",
    "flowsheet(\"flowsheet\", mixer).solve()\n",
    "\n",
    "Idisplay(streamTable([ha,hb,hc])[columns])\n",
    "\n",
    "curves = PsychrometricChart(patm=101325).read()\n",
    "chart = curves.chart([[ha,hc]])\n",
    "Idisplay(chart)"
   ]
  },
  {
   "cell_type": "markdown",
   "metadata": {},
   "source": [
    "### Heating,  exchange"
   ]
  },
  {
   "cell_type": "code",
   "execution_count": null,
   "metadata": {
    "collapsed": true,
    "scrolled": false
   },
   "outputs": [],
   "source": [
    "ha = humid_air(\"ha\", A=1, t=25, rh=0.40)\n",
    "hb = heat(\"heat\")\n",
    "hc = humid_air(\"hc\")\n",
    "losses = walllosses(\"losses\", ha, hb, hc, 1, 15)\n",
    "\n",
    "flowsheet(\"flowsheet\", losses).solve()\n",
    "\n",
    "Idisplay(streamTable([ha,hb,hc])[columns])\n",
    "\n",
    "curves = PsychrometricChart(patm=101325).read()\n",
    "chart = curves.chart([[ha,hc]])\n",
    "Idisplay(chart)"
   ]
  },
  {
   "cell_type": "markdown",
   "metadata": {
    "collapsed": true
   },
   "source": [
    "### mix2"
   ]
  },
  {
   "cell_type": "code",
   "execution_count": null,
   "metadata": {
    "collapsed": true
   },
   "outputs": [],
   "source": [
    "ha = humid_air(\"ha\", A=1, t=25, rh=0.40)\n",
    "hb = heat(\"heat\", H=10)\n",
    "hc = humid_air(\"hc\")\n",
    "hd = humid_air(\"hd\", A=0.2, t=25, rh=0.10)\n",
    "he = humid_air(\"he\")\n",
    "\n",
    "mixer1 = mix(\"mixer1\", ha, hb, hc)\n",
    "mixer2 = mix(\"mixer2\", hc, hd, he)\n",
    "\n",
    "flowsheet(\"flowsheet\", mixer1,mixer2).solve()\n",
    "\n",
    "Idisplay(streamTable([ha,hb,hc,hd,he])[columns])\n",
    "\n",
    "chart = curves.chart([[ha,hc,hd,he]])\n",
    "Idisplay(chart)"
   ]
  },
  {
   "cell_type": "code",
   "execution_count": null,
   "metadata": {
    "collapsed": true
   },
   "outputs": [],
   "source": []
  },
  {
   "cell_type": "code",
   "execution_count": null,
   "metadata": {
    "collapsed": true
   },
   "outputs": [],
   "source": []
  },
  {
   "cell_type": "code",
   "execution_count": null,
   "metadata": {
    "collapsed": true
   },
   "outputs": [],
   "source": []
  },
  {
   "cell_type": "code",
   "execution_count": null,
   "metadata": {
    "collapsed": true
   },
   "outputs": [],
   "source": []
  },
  {
   "cell_type": "code",
   "execution_count": null,
   "metadata": {
    "collapsed": true
   },
   "outputs": [],
   "source": []
  },
  {
   "cell_type": "code",
   "execution_count": null,
   "metadata": {
    "collapsed": true
   },
   "outputs": [],
   "source": []
  }
 ],
 "metadata": {
  "kernelspec": {
   "display_name": "Python 3",
   "language": "python",
   "name": "python3"
  },
  "language_info": {
   "codemirror_mode": {
    "name": "ipython",
    "version": 3
   },
   "file_extension": ".py",
   "mimetype": "text/x-python",
   "name": "python",
   "nbconvert_exporter": "python",
   "pygments_lexer": "ipython3",
   "version": "3.6.1"
  }
 },
 "nbformat": 4,
 "nbformat_minor": 2
}
