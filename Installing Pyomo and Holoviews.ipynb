{
 "cells": [
  {
   "cell_type": "markdown",
   "metadata": {},
   "source": [
    "# Installing  Pyomo  and  Holoviews"
   ]
  },
  {
   "cell_type": "code",
   "execution_count": null,
   "metadata": {
    "collapsed": true
   },
   "outputs": [],
   "source": [
    "import subprocess\n",
    "\n",
    "try:\n",
    "    import pyomo\n",
    "except ImportError:\n",
    "    print(\"Installing Pyomo\")\n",
    "    print(subprocess.run(\"pip install pyomo\", shell=True))\n",
    "    print(subprocess.run(\"conda install ipopt_bin -c cachemeorg\", shell=True))\n",
    "    print(subprocess.run(\"conda install glpk -c cachemeorg\", shell=True))\n",
    "\n",
    "try:\n",
    "    import holoviews\n",
    "except ImportError:\n",
    "    print(\"Installing HoloViews\")\n",
    "    print(subprocess.run(\"conda install -c ioam holoviews bokeh\", shell=True))"
   ]
  }
 ],
 "metadata": {
  "kernelspec": {
   "display_name": "Python 3",
   "language": "python",
   "name": "python3"
  },
  "language_info": {
   "codemirror_mode": {
    "name": "ipython",
    "version": 3
   },
   "file_extension": ".py",
   "mimetype": "text/x-python",
   "name": "python",
   "nbconvert_exporter": "python",
   "pygments_lexer": "ipython3",
   "version": "3.6.1"
  }
 },
 "nbformat": 4,
 "nbformat_minor": 2
}
